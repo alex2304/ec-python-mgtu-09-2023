{
 "cells": [
  {
   "cell_type": "markdown",
   "source": [
    "## Инструменты отладки"
   ],
   "metadata": {
    "collapsed": false
   }
  },
  {
   "cell_type": "code",
   "execution_count": null,
   "metadata": {
    "collapsed": true
   },
   "outputs": [],
   "source": [
    "\"\"\"Building an AST tree\"\"\"\n",
    "\n",
    "import ast\n",
    "\n",
    "tree = ast.parse(\"x, y = y, x\")\n",
    "print(ast.dump(tree, indent=4))"
   ]
  },
  {
   "cell_type": "code",
   "execution_count": null,
   "outputs": [],
   "source": [
    "\"\"\"Using dis module for disassembling python code\"\"\"\n",
    "\n",
    "import dis\n",
    "\n",
    "def modulus(x, y):\n",
    "    result = x % y\n",
    "    return result\n",
    "\n",
    "dis.dis(modulus)"
   ],
   "metadata": {
    "collapsed": false
   }
  },
  {
   "cell_type": "markdown",
   "source": [
    "## Python 3.6"
   ],
   "metadata": {
    "collapsed": false
   }
  },
  {
   "cell_type": "code",
   "execution_count": null,
   "outputs": [],
   "source": [
    "\"\"\"New typing become stable\"\"\"\n",
    "\n",
    "from typing import List, Dict\n",
    "\n",
    "primes: List[int] = []\n",
    "captain: str  # Note: no initial value!\n",
    "\n",
    "\n",
    "class Starship:\n",
    "    stats: Dict[str, int] = {}"
   ],
   "metadata": {
    "collapsed": false
   }
  },
  {
   "cell_type": "code",
   "execution_count": null,
   "outputs": [],
   "source": [
    "\"\"\"async and await in the comprehensions and generators (PEP 530)\"\"\"\n",
    "\n",
    "# result = [i async for i in aiter() if i % 2]\n",
    "# result = [await fun() for fun in funcs if await condition()]"
   ],
   "metadata": {
    "collapsed": false
   }
  },
  {
   "cell_type": "code",
   "execution_count": null,
   "outputs": [],
   "source": [
    "\"\"\"f-strings (PEP 498)\"\"\"\n",
    "\n",
    "import math\n",
    "\n",
    "radius = 1.2\n",
    "length = 2 * math.pi * radius\n",
    "f\"Length of the circle with the radius {radius} = {length:.2f}\""
   ],
   "metadata": {
    "collapsed": false
   }
  },
  {
   "cell_type": "code",
   "execution_count": null,
   "outputs": [],
   "source": [
    "\"\"\"a file system path protocol (PEP 519)\"\"\"\n",
    "\n",
    "from pathlib import Path\n",
    "\n",
    "path = str(Path(\"/\") / Path(\"tmp\") / Path(\"demo.tmp\"))\n",
    "with open(path, \"w\") as f:\n",
    "    f.write(\"Hello, Path!\")"
   ],
   "metadata": {
    "collapsed": false
   }
  },
  {
   "cell_type": "code",
   "execution_count": null,
   "outputs": [],
   "source": [
    "\"\"\"asynchronous generators (PEP 525)\"\"\"\n",
    "import asyncio\n",
    "\n",
    "\n",
    "async def ticker(delay, to):\n",
    "    \"\"\"Yield numbers from 0 to *to* every *delay* seconds.\"\"\"\n",
    "    for i in range(to):\n",
    "        yield i\n",
    "        await asyncio.sleep(delay)"
   ],
   "metadata": {
    "collapsed": false
   }
  },
  {
   "cell_type": "markdown",
   "source": [
    "## Python 3.7"
   ],
   "metadata": {
    "collapsed": false
   }
  },
  {
   "cell_type": "code",
   "execution_count": null,
   "outputs": [],
   "source": [
    "\"\"\"data classes (PEP 557)\"\"\"\n",
    "\n",
    "from dataclasses import dataclass\n",
    "\n",
    "\n",
    "@dataclass(order=True)\n",
    "class User:\n",
    "    name: str\n",
    "    age: int"
   ],
   "metadata": {
    "collapsed": false
   }
  },
  {
   "cell_type": "markdown",
   "source": [
    "## Python 3.8"
   ],
   "metadata": {
    "collapsed": false
   }
  },
  {
   "cell_type": "code",
   "execution_count": null,
   "outputs": [],
   "source": [
    "\"\"\"Assignment expression 'the walrus operator' (PEP 572)\"\"\"\n",
    "\n",
    "\n",
    "def process(block):\n",
    "    pass\n",
    "\n",
    "\n",
    "with open(\"file.txt\") as f:\n",
    "    # Loop over fixed length blocks\n",
    "    while (block := f.read(256)) != '':\n",
    "        process(block)\n",
    "\n",
    "a = \"123\"\n",
    "\n",
    "if (n := len(a)) > 10:\n",
    "    print(f\"List is too long ({n} elements, expected <= 10)\")"
   ],
   "metadata": {
    "collapsed": false
   }
  },
  {
   "cell_type": "code",
   "execution_count": null,
   "outputs": [],
   "source": [
    "\"\"\"A new preferable way to run asyncio programs (provisional -> stable)\"\"\"\n",
    "import asyncio\n",
    "\n",
    "\n",
    "async def main():\n",
    "    await asyncio.sleep(0)\n",
    "    return 42\n",
    "\n",
    "\n",
    "asyncio.run(main())"
   ],
   "metadata": {
    "collapsed": false
   }
  },
  {
   "cell_type": "code",
   "execution_count": null,
   "outputs": [],
   "source": [
    "\"\"\"Positional-only parameters (PEP 570)\"\"\"\n",
    "\n",
    "\n",
    "def strlen(obj: str, /):\n",
    "    c = 0\n",
    "    for _ in obj:\n",
    "        c += 1\n",
    "    return c\n",
    "\n",
    "\n",
    "strlen(\"hello\")\n",
    "strlen(obj='hello')  # The \"obj\" keyword argument impairs readability"
   ],
   "metadata": {
    "collapsed": false
   }
  },
  {
   "cell_type": "code",
   "execution_count": null,
   "outputs": [],
   "source": [
    "\"\"\"Added a \"=\" specifier to f-strings (bpo-36817)\"\"\"\n",
    "\n",
    "import math\n",
    "\n",
    "radius = 1.2\n",
    "length = 2 * math.pi * radius\n",
    "f\"A circle with the {radius=} has a length {length=:.2f}\""
   ],
   "metadata": {
    "collapsed": false
   }
  },
  {
   "cell_type": "markdown",
   "source": [
    "## Python 3.9"
   ],
   "metadata": {
    "collapsed": false
   }
  },
  {
   "cell_type": "code",
   "execution_count": null,
   "outputs": [],
   "source": [
    "\"\"\"Dictionary Merge and Update operators (https://peps.python.org/pep-0584/)\"\"\"\n",
    "\n",
    "dict1 = {\"x\": \"1\", \"y\": \"1\"}\n",
    "dict2 = {\"y\": \"2\", \"z\": \"2\"}\n",
    "\n",
    "print(dict1 | dict2)  # {'x': '1', 'y': '2', 'z': '2'}\n",
    "print(dict2 | dict1)  # {'y': '1', 'z': '2', 'x': '1'}"
   ],
   "metadata": {
    "collapsed": false
   }
  },
  {
   "cell_type": "code",
   "execution_count": null,
   "outputs": [],
   "source": [
    "\"\"\"Type hint generics from standard collection (https://peps.python.org/pep-0585/)\"\"\"\n",
    "\n",
    "\n",
    "def greet_all(names: list[str]) -> None:\n",
    "    for name in names:\n",
    "        print(\"Hello\", name)"
   ],
   "metadata": {
    "collapsed": false
   }
  },
  {
   "cell_type": "code",
   "execution_count": null,
   "outputs": [],
   "source": [
    "\"\"\"New string methods\"\"\"\n",
    "\n",
    "print(str.removeprefix(\"pre-fix\", \"pre-\"))\n",
    "print(str.removesuffix(\"fix-post\", \"-post\"))"
   ],
   "metadata": {
    "collapsed": false
   }
  },
  {
   "cell_type": "markdown",
   "source": [
    "## Python 3.10"
   ],
   "metadata": {
    "collapsed": false
   }
  },
  {
   "cell_type": "code",
   "execution_count": null,
   "outputs": [],
   "source": [
    "\"\"\"Add the `match..case` construction\"\"\"\n",
    "\n",
    "def http_error(status):\n",
    "    match status:\n",
    "        case 400:\n",
    "            return \"Bad request\"\n",
    "        case 404:\n",
    "            return \"Not found\"\n",
    "        case 418:\n",
    "            return \"I'm a teapot\"\n",
    "        case 401 | 403 | 404:\n",
    "            return \"Not allowed\"\n"
   ],
   "metadata": {
    "collapsed": false
   }
  },
  {
   "cell_type": "code",
   "execution_count": null,
   "outputs": [],
   "source": [
    "\"\"\"New operator for a Union type\"\"\"\n",
    "\n",
    "def add_5(value: int | float) -> int | float:\n",
    "    return value + 5\n"
   ],
   "metadata": {
    "collapsed": false
   }
  },
  {
   "cell_type": "code",
   "execution_count": null,
   "outputs": [],
   "source": [
    "\"\"\"New syntax for the context manager\"\"\"\n",
    "\n",
    "from contextlib import redirect_stdout\n",
    "\n",
    "with (open(\"file.txt\", \"w\") as file, redirect_stdout(file)):\n",
    "    ...\n",
    "\n",
    "with (open(\"file1.txt\", \"r\") as file1, open(\"file2.txt\", \"w\") as file2):\n",
    "    ..."
   ],
   "metadata": {
    "collapsed": false
   }
  },
  {
   "cell_type": "markdown",
   "source": [
    "## Python 3.11"
   ],
   "metadata": {
    "collapsed": false
   }
  },
  {
   "cell_type": "code",
   "execution_count": null,
   "outputs": [],
   "source": [
    "\"\"\"New syntax: an exception group\"\"\"\n",
    "\n",
    "try:\n",
    "    raise ExceptionGroup(\"Data validations\",(ValueError(\"problem 1\"), ValueError(\"problem 2\")))\n",
    "except * (ValueError, ValueError) as exception_group_1:\n",
    "    print(\"validations failed\")\n",
    "    raise ValueError from exception_group_1"
   ],
   "metadata": {
    "collapsed": false
   }
  },
  {
   "cell_type": "code",
   "execution_count": null,
   "outputs": [],
   "source": [
    "\"\"\"Sufficient runtime speedup\"\"\""
   ],
   "metadata": {
    "collapsed": false
   }
  },
  {
   "cell_type": "markdown",
   "source": [
    "## Python 3.12"
   ],
   "metadata": {
    "collapsed": false
   }
  },
  {
   "cell_type": "code",
   "execution_count": null,
   "outputs": [],
   "source": [
    "\"\"\"Templates in Type Hinting\"\"\"\n",
    "\n",
    "class Loadable(typing.Protocol):\n",
    "    def load(self) -> None:\n",
    "      ...\n",
    "\n",
    "\n",
    "class Stack[T:Loadable]:\n",
    "    ...\n",
    "\n",
    "\n",
    "class Element:\n",
    "    def load(self) -> str:\n",
    "        ...\n",
    "\n",
    "stack = Stack[Element]()\n",
    "stack.push(Element())"
   ],
   "metadata": {
    "collapsed": false
   }
  }
 ],
 "metadata": {
  "kernelspec": {
   "display_name": "Python 3",
   "language": "python",
   "name": "python3"
  },
  "language_info": {
   "codemirror_mode": {
    "name": "ipython",
    "version": 2
   },
   "file_extension": ".py",
   "mimetype": "text/x-python",
   "name": "python",
   "nbconvert_exporter": "python",
   "pygments_lexer": "ipython2",
   "version": "2.7.6"
  }
 },
 "nbformat": 4,
 "nbformat_minor": 0
}
